{
  "nbformat": 4,
  "nbformat_minor": 0,
  "metadata": {
    "colab": {
      "provenance": [],
      "authorship_tag": "ABX9TyPVl8WhyzTgWjTFVBvCItgL",
      "include_colab_link": true
    },
    "kernelspec": {
      "name": "python3",
      "display_name": "Python 3"
    },
    "language_info": {
      "name": "python"
    }
  },
  "cells": [
    {
      "cell_type": "markdown",
      "metadata": {
        "id": "view-in-github",
        "colab_type": "text"
      },
      "source": [
        "<a href=\"https://colab.research.google.com/github/Phy54/CS114.O21/blob/main/Test1.ipynb\" target=\"_parent\"><img src=\"https://colab.research.google.com/assets/colab-badge.svg\" alt=\"Open In Colab\"/></a>"
      ]
    },
    {
      "cell_type": "code",
      "execution_count": 1,
      "metadata": {
        "colab": {
          "base_uri": "https://localhost:8080/"
        },
        "id": "0Mal3BshVXQu",
        "outputId": "5a0f5213-a0ec-4a4d-ca3c-7f794070db89"
      },
      "outputs": [
        {
          "output_type": "stream",
          "name": "stdout",
          "text": [
            "##\n",
            "#.\n",
            "Yes\n"
          ]
        }
      ],
      "source": [
        "def dem(ma_tran):\n",
        "  co = 0\n",
        "  for i in range(2):\n",
        "    for j in range(2):\n",
        "      if ma_tran[i][j] == '#':\n",
        "\n",
        "        co+=1\n",
        "  return co\n",
        "def check_var(ma_tran):\n",
        "  co = dem(ma_tran)\n",
        "  if co >=3:\n",
        "    return 'Yes'\n",
        "  if (ma_tran[0][0] == '#' and ma_tran[1][1]=='#') or (ma_tran[0][1] == '#' and ma_tran[1][0]=='#'):\n",
        "    return 'No'\n",
        "  return 'Yes'\n",
        "\n",
        "\n",
        "ma_tran = []\n",
        "\n",
        "for i in range(2):\n",
        "  chuoi = input()\n",
        "  mt_phu = [chuoi[0],chuoi[1]]\n",
        "  ma_tran.append(mt_phu)\n",
        "\n",
        "print(check_var(ma_tran))"
      ]
    },
    {
      "cell_type": "code",
      "source": [],
      "metadata": {
        "id": "TVB6e9VGZU1J"
      },
      "execution_count": null,
      "outputs": []
    },
    {
      "cell_type": "code",
      "source": [],
      "metadata": {
        "id": "SL7QPTAcZ-vp"
      },
      "execution_count": null,
      "outputs": []
    }
  ]
}